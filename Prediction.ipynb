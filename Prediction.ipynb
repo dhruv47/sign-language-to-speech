{
 "cells": [
  {
   "cell_type": "code",
   "execution_count": 1,
   "id": "99d28911",
   "metadata": {},
   "outputs": [],
   "source": [
    "import tensorflow as tf\n",
    "from tensorflow import keras\n",
    "import numpy as np\n",
    "import cv2\n",
    "import pyttsx3"
   ]
  },
  {
   "cell_type": "code",
   "execution_count": 2,
   "id": "d89cc659",
   "metadata": {},
   "outputs": [],
   "source": [
    "SemodelImport = keras.models.load_model(\"Best-Model-without-overfitting-06.h5\")\n",
    "label = ['1','2','3','4','5',\"6\",\"7\",\"8\",\"9\",\"A\",\"B\",\"C\",\"D\",\"E\",\"F\",\"G\",\"H\",\"I\",\"J\",\"K\",\"L\",\"M\",\"N\",\"O\",\"P\",\"Q\",\"R\",\"S\",\"T\",\"U\",\"V\",\"W\",\"X\",\"Y\",\"Z\"]\n",
    "engine = pyttsx3.init()"
   ]
  },
  {
   "cell_type": "code",
   "execution_count": 3,
   "id": "911dbb83",
   "metadata": {},
   "outputs": [
    {
     "name": "stderr",
     "output_type": "stream",
     "text": [
      "c:\\users\\dhruv\\appdata\\local\\programs\\python\\python38\\lib\\site-packages\\tensorflow\\python\\keras\\engine\\sequential.py:450: UserWarning: `model.predict_classes()` is deprecated and will be removed after 2021-01-01. Please use instead:* `np.argmax(model.predict(x), axis=-1)`,   if your model does multi-class classification   (e.g. if it uses a `softmax` last-layer activation).* `(model.predict(x) > 0.5).astype(\"int32\")`,   if your model does binary classification   (e.g. if it uses a `sigmoid` last-layer activation).\n",
      "  warnings.warn('`model.predict_classes()` is deprecated and '\n"
     ]
    },
    {
     "name": "stdout",
     "output_type": "stream",
     "text": [
      "['U']\n",
      "['C']\n",
      "['7']\n",
      "UC7\n"
     ]
    }
   ],
   "source": [
    "vid = cv2.VideoCapture(0)\n",
    "out = ''\n",
    "while(vid.isOpened()):\n",
    "    ret,frame = vid.read()\n",
    "    frame = cv2.cvtColor(frame, cv2.COLOR_BGR2RGB)\n",
    "    frame = cv2.bilateralFilter(frame, 9, 75, 75)\n",
    "    frame = cv2.Canny(frame,60,100)\n",
    "    cv2.imshow(\"Video\",frame)\n",
    "    k = cv2.waitKey(1)\n",
    "    if k != -1:\n",
    "        if k==27:\n",
    "            break\n",
    "        else:\n",
    "            cv2.imwrite(\"test.jpg\",frame)\n",
    "            image = tf.keras.preprocessing.image.load_img(\"test.jpg\", target_size = (150,150))\n",
    "            image_arr = tf.keras.preprocessing.image.img_to_array(image)\n",
    "            image_arr = np.array([image_arr])\n",
    "            pred = SemodelImport.predict_classes(image_arr)\n",
    "            print(np.array(label)[pred])\n",
    "            out = out + (str(np.array(label)[pred]))[2]\n",
    "          \n",
    "print(out)\n",
    "vid.release()\n",
    "cv2.destroyAllWindows() \n",
    "engine.setProperty('rate',100) #determine the rate of speech (optional)/ used for changing rate of speech\n",
    "engine.say(out) #\n",
    "engine.runAndWait() # the code will wait for the speech to complete\n"
   ]
  },
  {
   "cell_type": "code",
   "execution_count": null,
   "id": "088e0bbb",
   "metadata": {},
   "outputs": [],
   "source": []
  }
 ],
 "metadata": {
  "kernelspec": {
   "display_name": "Python 3",
   "language": "python",
   "name": "python3"
  },
  "language_info": {
   "codemirror_mode": {
    "name": "ipython",
    "version": 3
   },
   "file_extension": ".py",
   "mimetype": "text/x-python",
   "name": "python",
   "nbconvert_exporter": "python",
   "pygments_lexer": "ipython3",
   "version": "3.8.8"
  }
 },
 "nbformat": 4,
 "nbformat_minor": 5
}
